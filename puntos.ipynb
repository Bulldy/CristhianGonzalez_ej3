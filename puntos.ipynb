{
 "cells": [
  {
   "cell_type": "code",
   "execution_count": 2,
   "metadata": {
    "collapsed": false
   },
   "outputs": [],
   "source": [
    "import numpy as np\n",
    "import pandas as pd\n",
    "import matplotlib.pyplot as plt\n",
    "import sklearn"
   ]
  },
  {
   "cell_type": "code",
   "execution_count": 3,
   "metadata": {
    "collapsed": false
   },
   "outputs": [
    {
     "name": "stdout",
     "output_type": "stream",
     "text": [
      "The scikit-learn version is 0.18.1.\n"
     ]
    }
   ],
   "source": [
    "print('The scikit-learn version is {}.'.format(sklearn.__version__))"
   ]
  },
  {
   "cell_type": "code",
   "execution_count": 4,
   "metadata": {
    "collapsed": false
   },
   "outputs": [],
   "source": [
    "filename = 'dorothea_train.data'\n",
    "filein = open(filename, 'r')\n",
    "filelines = filein.readlines()\n",
    "filein.close()\n",
    "\n",
    "n_elements = len(filelines)\n",
    "n_features = 100000\n",
    "\n",
    "train_data = np.zeros((n_elements, n_features))\n",
    "\n",
    "for i in range(n_elements):\n",
    "    nums = filelines[i].split()\n",
    "    for n in nums:\n",
    "        j = int(n) - 1\n",
    "        train_data[i,j] = 1\n",
    "        \n",
    "filename = 'dorothea_test.data'\n",
    "filein = open(filename, 'r')\n",
    "filelines = filein.readlines()\n",
    "filein.close()\n",
    "\n",
    "n_elements = len(filelines)\n",
    "n_features = 100000\n",
    "\n",
    "test_data = np.zeros((n_elements, n_features))\n",
    "\n",
    "for i in range(n_elements):\n",
    "    nums = filelines[i].split()\n",
    "    for n in nums:\n",
    "        j = int(n) - 1\n",
    "        train_data[i,j] = 1\n",
    "        \n",
    "filename = 'dorothea_valid.data'\n",
    "filein = open(filename, 'r')\n",
    "filelines = filein.readlines()\n",
    "filein.close()\n",
    "\n",
    "n_elements = len(filelines)\n",
    "n_features = 100000\n",
    "\n",
    "valid_data = np.zeros((n_elements, n_features))\n",
    "\n",
    "for i in range(n_elements):\n",
    "    nums = filelines[i].split()\n",
    "    for n in nums:\n",
    "        j = int(n) - 1\n",
    "        valid_data[i,j] = 1"
   ]
  },
  {
   "cell_type": "code",
   "execution_count": 5,
   "metadata": {
    "collapsed": false
   },
   "outputs": [],
   "source": [
    "train_data=pd.DataFrame(train_data)\n",
    "test_data=pd.DataFrame(test_data)\n",
    "valid_data=pd.DataFrame(valid_data)"
   ]
  },
  {
   "cell_type": "code",
   "execution_count": 6,
   "metadata": {
    "collapsed": false
   },
   "outputs": [],
   "source": [
    "train_target=np.genfromtxt(\"dorothea_train.labels\")\n",
    "valid_target=np.genfromtxt(\"dorothea_valid.labels\")"
   ]
  },
  {
   "cell_type": "code",
   "execution_count": 7,
   "metadata": {
    "collapsed": false
   },
   "outputs": [],
   "source": [
    "from sklearn import preprocessing\n",
    "normal_train=pd.DataFrame(train_data)\n",
    "normal_test=pd.DataFrame(test_data)\n",
    "normal_valid=pd.DataFrame(valid_data)"
   ]
  },
  {
   "cell_type": "code",
   "execution_count": 8,
   "metadata": {
    "collapsed": false
   },
   "outputs": [],
   "source": [
    "train_target=np.ravel(train_target)\n",
    "valid_target=np.ravel(valid_target)"
   ]
  },
  {
   "cell_type": "code",
   "execution_count": 9,
   "metadata": {
    "collapsed": false
   },
   "outputs": [],
   "source": [
    "from sklearn.ensemble import RandomForestClassifier\n",
    "\n",
    "n_trees_total = 60\n",
    "fs1 = []\n",
    "for i in range(n_trees_total):\n",
    "    rf = RandomForestClassifier(n_estimators=i+1)\n",
    "    rf.fit(normal_train, train_target.astype(int))\n",
    "    prediction = rf.predict(normal_valid)\n",
    "    \n",
    "    ff=(valid_target==prediction)\n",
    "    exito=sum(ff)\n",
    "    f=exito/len(valid_target)\n",
    "    fs1.append(f)\n",
    "    "
   ]
  },
  {
   "cell_type": "code",
   "execution_count": 11,
   "metadata": {
    "collapsed": false
   },
   "outputs": [
    {
     "name": "stdout",
     "output_type": "stream",
     "text": [
      "max_features=None\n",
      "Numero de arboles mas eficiente: 4\n"
     ]
    },
    {
     "data": {
      "image/png": "[encoded data removed]",
      "text/plain": [
       "<matplotlib.figure.Figure at 0x17015b9b0>"
      ]
     },
     "metadata": {},
     "output_type": "display_data"
    }
   ],
   "source": [
    "print(\"max_features=None\")\n",
    "print(\"Numero de arboles mas eficiente: \"+str(np.argmax(fs1)))\n",
    "plt.plot(fs1)\n",
    "plt.show()"
   ]
  },
  {
   "cell_type": "code",
   "execution_count": 12,
   "metadata": {
    "collapsed": false
   },
   "outputs": [],
   "source": [
    "from sklearn.ensemble import RandomForestClassifier\n",
    "\n",
    "n_trees_total = 60\n",
    "fs2 = []\n",
    "for i in range(n_trees_total):\n",
    "    rf = RandomForestClassifier(n_estimators=i+1,max_features=\"log2\")\n",
    "    rf.fit(normal_train, train_target.astype(int))\n",
    "    prediction = rf.predict(normal_valid)\n",
    "    \n",
    "    ff=(valid_target==prediction)\n",
    "    exito=sum(ff)\n",
    "    f=exito/len(valid_target)\n",
    "    fs2.append(f)\n",
    "    "
   ]
  },
  {
   "cell_type": "code",
   "execution_count": 13,
   "metadata": {
    "collapsed": false
   },
   "outputs": [
    {
     "name": "stdout",
     "output_type": "stream",
     "text": [
      "max_feature=log2\n",
      "Numero de arboles mas eficiente17\n"
     ]
    },
    {
     "data": {
      "image/png": "[encoded data removed]",
      "text/plain": [
       "<matplotlib.figure.Figure at 0x170163b38>"
      ]
     },
     "metadata": {},
     "output_type": "display_data"
    }
   ],
   "source": [
    "print(\"max_feature=log2\")\n",
    "print(\"Numero de arboles mas eficiente\"+str(np.argmax(fs2)))\n",
    "plt.plot(fs2)\n",
    "plt.show()"
   ]
  },
  {
   "cell_type": "code",
   "execution_count": 14,
   "metadata": {
    "collapsed": true
   },
   "outputs": [],
   "source": [
    "from sklearn.ensemble import RandomForestClassifier\n",
    "\n",
    "n_trees_total = 60\n",
    "fs3= []\n",
    "for i in range(n_trees_total):\n",
    "    rf = RandomForestClassifier(n_estimators=i+1,max_features=\"sqrt\")\n",
    "    rf.fit(normal_train, train_target.astype(int))\n",
    "    prediction = rf.predict(normal_valid)\n",
    "    \n",
    "    ff=(valid_target==prediction)\n",
    "    exito=sum(ff)\n",
    "    f=exito/len(valid_target)\n",
    "    fs3.append(f)"
   ]
  },
  {
   "cell_type": "code",
   "execution_count": 15,
   "metadata": {
    "collapsed": false
   },
   "outputs": [
    {
     "name": "stdout",
     "output_type": "stream",
     "text": [
      "max_feature=sqrt\n",
      "Numero de arboles mas eficiente3\n"
     ]
    },
    {
     "data": {
      "image/png": "[encoded data removed]",
      "text/plain": [
       "<matplotlib.figure.Figure at 0x170208ac8>"
      ]
     },
     "metadata": {},
     "output_type": "display_data"
    }
   ],
   "source": [
    "print(\"max_feature=sqrt\")\n",
    "print(\"Numero de arboles mas eficiente\"+str(np.argmax(fs3)))\n",
    "plt.plot(fs3)\n",
    "plt.show()"
   ]
  },
  {
   "cell_type": "code",
   "execution_count": 19,
   "metadata": {
    "collapsed": false
   },
   "outputs": [
    {
     "name": "stdout",
     "output_type": "stream",
     "text": [
      "Eficiencia: 0.908571428571\n"
     ]
    }
   ],
   "source": [
    "rfinal=RandomForestClassifier(np.argmax(fs1))\n",
    "rfinal.fit(normal_train,train_target.astype(int))\n",
    "prediction=rfinal.predict(normal_valid)\n",
    "\n",
    "ff=(valid_target==prediction)\n",
    "exito=sum(ff)\n",
    "f=exito/len(valid_target)\n",
    "\n",
    "print(\"Eficiencia: \"+str(f))"
   ]
  },
  {
   "cell_type": "code",
   "execution_count": 20,
   "metadata": {
    "collapsed": false
   },
   "outputs": [
    {
     "name": "stdout",
     "output_type": "stream",
     "text": [
      "Top ten atributes:\n",
      "Index \t Importance\n",
      "56181 \t0.0295539431501\n",
      "411 \t0.0274337285082\n",
      "36407 \t0.0202637107169\n",
      "52259 \t0.0185784955623\n",
      "76223 \t0.0169727362388\n",
      "46503 \t0.016541746022\n",
      "44840 \t0.0143299387089\n",
      "89837 \t0.012807453583\n",
      "9463 \t0.0127174292088\n",
      "46231 \t0.0124821198879\n"
     ]
    }
   ],
   "source": [
    "ii = np.argsort(-rfinal.feature_importances_)\n",
    "\n",
    "print(\"Top ten atributes:\")\n",
    "print(\"Index \\t Importance\")\n",
    "for i in range(10):\n",
    "    print(str(ii[i])+\" \\t\"+str(rfinal.feature_importances_[ii[i]]))"
   ]
  },
  {
   "cell_type": "code",
   "execution_count": null,
   "metadata": {
    "collapsed": true
   },
   "outputs": [],
   "source": []
  }
 ],
 "metadata": {
  "anaconda-cloud": {},
  "kernelspec": {
   "display_name": "Python [conda root]",
   "language": "python",
   "name": "conda-root-py"
  }
 },
 "nbformat": 4,
 "nbformat_minor": 1
}
